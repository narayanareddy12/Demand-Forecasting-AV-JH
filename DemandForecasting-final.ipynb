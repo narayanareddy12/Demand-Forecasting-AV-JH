{
 "cells": [
  {
   "cell_type": "code",
   "execution_count": 2,
   "metadata": {
    "colab": {
     "base_uri": "https://localhost:8080/",
     "height": 70
    },
    "colab_type": "code",
    "id": "5R_RGNsRJfSL",
    "outputId": "8b00bf59-3166-43ed-d6b8-4c296a2da6eb"
   },
   "outputs": [
    {
     "ename": "ModuleNotFoundError",
     "evalue": "No module named 'xgboost'",
     "output_type": "error",
     "traceback": [
      "\u001b[1;31m---------------------------------------------------------------------------\u001b[0m",
      "\u001b[1;31mModuleNotFoundError\u001b[0m                       Traceback (most recent call last)",
      "\u001b[1;32m<ipython-input-2-e66926c96eec>\u001b[0m in \u001b[0;36m<module>\u001b[1;34m\u001b[0m\n\u001b[0;32m     11\u001b[0m \u001b[1;32mfrom\u001b[0m \u001b[0msklearn\u001b[0m\u001b[1;33m.\u001b[0m\u001b[0mpreprocessing\u001b[0m \u001b[1;32mimport\u001b[0m \u001b[0mPolynomialFeatures\u001b[0m\u001b[1;33m\u001b[0m\u001b[1;33m\u001b[0m\u001b[0m\n\u001b[0;32m     12\u001b[0m \u001b[1;33m\u001b[0m\u001b[0m\n\u001b[1;32m---> 13\u001b[1;33m \u001b[1;32mimport\u001b[0m \u001b[0mxgboost\u001b[0m \u001b[1;32mas\u001b[0m \u001b[0mxgb\u001b[0m\u001b[1;33m\u001b[0m\u001b[1;33m\u001b[0m\u001b[0m\n\u001b[0m\u001b[0;32m     14\u001b[0m \u001b[1;32mimport\u001b[0m \u001b[0mlightgbm\u001b[0m \u001b[1;32mas\u001b[0m \u001b[0mlgb\u001b[0m\u001b[1;33m\u001b[0m\u001b[1;33m\u001b[0m\u001b[0m\n\u001b[0;32m     15\u001b[0m \u001b[1;32mimport\u001b[0m \u001b[0msklearn\u001b[0m\u001b[1;33m.\u001b[0m\u001b[0mensemble\u001b[0m \u001b[1;32mas\u001b[0m \u001b[0mensemble\u001b[0m\u001b[1;33m\u001b[0m\u001b[1;33m\u001b[0m\u001b[0m\n",
      "\u001b[1;31mModuleNotFoundError\u001b[0m: No module named 'xgboost'"
     ]
    }
   ],
   "source": [
    "import pandas as pd\n",
    "import numpy as np\n",
    "import matplotlib.pyplot as plt\n",
    "import seaborn as sns\n",
    "import warnings \n",
    "\n",
    "from sklearn.metrics import mean_squared_error,mean_squared_log_error\n",
    "from sklearn.model_selection import train_test_split,KFold,StratifiedKFold,GridSearchCV,RandomizedSearchCV,cross_val_score,RepeatedKFold\n",
    "from sklearn.preprocessing import StandardScaler,MinMaxScaler,Normalizer,RobustScaler\n",
    "from sklearn.preprocessing import LabelEncoder\n",
    "from sklearn.preprocessing import PolynomialFeatures\n",
    "\n",
    "import xgboost as xgb\n",
    "import lightgbm as lgb\n",
    "import sklearn.ensemble as ensemble\n",
    "import sklearn.metrics as metrics\n",
    "from sklearn.ensemble import RandomForestClassifier,BaggingClassifier,AdaBoostClassifier,GradientBoostingClassifier,RandomForestRegressor,BaggingRegressor,AdaBoostRegressor,GradientBoostingRegressor\n",
    "from sklearn.linear_model import LinearRegression,LogisticRegression,Lasso, Ridge,LogisticRegressionCV,RidgeCV,LassoCV,ElasticNetCV,OrthogonalMatchingPursuit,ElasticNet,LassoLarsCV,BayesianRidge\n",
    "from sklearn.tree import DecisionTreeClassifier,DecisionTreeRegressor\n",
    "from sklearn.naive_bayes import GaussianNB\n",
    "from sklearn.neighbors import KNeighborsClassifier,KNeighborsRegressor\n",
    "from sklearn.pipeline import Pipeline\n",
    "from sklearn.svm import SVC,SVR\n",
    "from scipy import stats\n",
    "from scipy.stats import norm, skew\n",
    "from sklearn.decomposition import PCA\n",
    "from sklearn.discriminant_analysis import LinearDiscriminantAnalysis\n",
    "from sklearn.pipeline import make_pipeline\n",
    "from sklearn.kernel_ridge import KernelRidge\n",
    "\n",
    "\n",
    "from category_encoders.ordinal import OrdinalEncoder\n",
    "from category_encoders.woe import WOEEncoder\n",
    "from category_encoders.target_encoder import TargetEncoder\n",
    "from category_encoders.sum_coding import SumEncoder\n",
    "from category_encoders.m_estimate import MEstimateEncoder\n",
    "from category_encoders.leave_one_out import LeaveOneOutEncoder\n",
    "from category_encoders.helmert import HelmertEncoder\n",
    "from category_encoders.cat_boost import CatBoostEncoder\n",
    "from category_encoders.james_stein import JamesSteinEncoder\n",
    "from category_encoders.one_hot import OneHotEncoder\n",
    "from scipy.special import boxcox1p\n",
    "from bayes_opt import BayesianOptimization"
   ]
  },
  {
   "cell_type": "code",
   "execution_count": null,
   "metadata": {},
   "outputs": [],
   "source": [
    "warnings.filterwarnings('ignore')"
   ]
  },
  {
   "cell_type": "code",
   "execution_count": null,
   "metadata": {
    "colab": {},
    "colab_type": "code",
    "id": "1X9YoIpEKcHN"
   },
   "outputs": [],
   "source": [
    "train=pd.read_csv('train_0irEZ2H.csv')\n",
    "test=pd.read_csv('test_nfaJ3J5.csv')\n",
    "submission=pd.read_csv('sample_submission_pzljTaX.csv')"
   ]
  },
  {
   "cell_type": "code",
   "execution_count": null,
   "metadata": {
    "colab": {
     "base_uri": "https://localhost:8080/",
     "height": 195
    },
    "colab_type": "code",
    "id": "Owiy69xcK29K",
    "outputId": "13e66a4f-902f-47a8-cace-ca827702e0f1"
   },
   "outputs": [],
   "source": [
    "train.head()"
   ]
  },
  {
   "cell_type": "code",
   "execution_count": null,
   "metadata": {
    "colab": {
     "base_uri": "https://localhost:8080/",
     "height": 195
    },
    "colab_type": "code",
    "id": "wJyx8QR0K45t",
    "outputId": "c041776a-0105-4c04-8954-d40a4951a82b"
   },
   "outputs": [],
   "source": [
    "test.head()"
   ]
  },
  {
   "cell_type": "code",
   "execution_count": null,
   "metadata": {
    "colab": {
     "base_uri": "https://localhost:8080/",
     "height": 195
    },
    "colab_type": "code",
    "id": "FsxXGfbfK6xA",
    "outputId": "fd770d19-d073-4376-f97a-dd650d7090a3"
   },
   "outputs": [],
   "source": [
    "submission.head()"
   ]
  },
  {
   "cell_type": "code",
   "execution_count": null,
   "metadata": {
    "colab": {
     "base_uri": "https://localhost:8080/",
     "height": 284
    },
    "colab_type": "code",
    "id": "m4HxhzOoK-FS",
    "outputId": "e2d0ff3e-6675-4909-95f6-eb63172ca097"
   },
   "outputs": [],
   "source": [
    "train.describe()"
   ]
  },
  {
   "cell_type": "code",
   "execution_count": null,
   "metadata": {
    "colab": {
     "base_uri": "https://localhost:8080/",
     "height": 185
    },
    "colab_type": "code",
    "id": "9IVELK2qMId1",
    "outputId": "ec6e6ea3-ff17-4590-e241-e0bbcc5b7fb9"
   },
   "outputs": [],
   "source": [
    "train.dtypes"
   ]
  },
  {
   "cell_type": "code",
   "execution_count": null,
   "metadata": {
    "colab": {
     "base_uri": "https://localhost:8080/",
     "height": 185
    },
    "colab_type": "code",
    "id": "KMd5qNfiPlSd",
    "outputId": "cf76f7d8-584c-4997-847a-c8fd5c344b12"
   },
   "outputs": [],
   "source": [
    "train.isna().sum()"
   ]
  },
  {
   "cell_type": "code",
   "execution_count": null,
   "metadata": {
    "colab": {},
    "colab_type": "code",
    "id": "jBsXhWO1Pd9s"
   },
   "outputs": [],
   "source": [
    "#Imputing missing value with the relevant total price\n",
    "train.total_price=train.total_price.fillna(469.5375)"
   ]
  },
  {
   "cell_type": "code",
   "execution_count": null,
   "metadata": {},
   "outputs": [],
   "source": [
    "print(train.isna().sum().sum())\n",
    "print(test.isna().sum().sum())"
   ]
  },
  {
   "cell_type": "markdown",
   "metadata": {
    "colab_type": "text",
    "id": "pZu9nxLqLftF"
   },
   "source": [
    "# Feature Engineering"
   ]
  },
  {
   "cell_type": "code",
   "execution_count": null,
   "metadata": {
    "colab": {
     "base_uri": "https://localhost:8080/",
     "height": 67
    },
    "colab_type": "code",
    "id": "eKpXlM71LhNK",
    "outputId": "05600236-39b3-401d-dbf8-a098585d4b3b"
   },
   "outputs": [],
   "source": [
    "train.columns"
   ]
  },
  {
   "cell_type": "code",
   "execution_count": null,
   "metadata": {
    "colab": {},
    "colab_type": "code",
    "id": "1X489NATbHK7"
   },
   "outputs": [],
   "source": [
    "#New Feature Creation functions\n",
    "\n",
    "def gen_count_id(train,test,col,name):\n",
    "    temp=train.groupby(col)['record_ID'].count().reset_index().rename(columns={'record_ID':name})\n",
    "    train=pd.merge(train,temp,how='left',on=col)\n",
    "    test=pd.merge(test,temp,how='left',on=col)\n",
    "    train[name]=train[name].astype(float)\n",
    "    test[name]=test[name].astype(float)\n",
    "    train[name].fillna(np.median(temp[name]),inplace=True)\n",
    "    test[name].fillna(np.median(temp[name]),inplace=True)\n",
    "    return train,test\n",
    "\n",
    "def gen_average_units(train,test,col,name):\n",
    "    temp=train.groupby(col)['units_sold'].mean().reset_index().rename(columns={'units_sold':name})\n",
    "    train=pd.merge(train,temp,how='left',on=col)\n",
    "    test=pd.merge(test,temp,how='left',on=col)\n",
    "    train[name].fillna(np.median(temp[name]),inplace=True)\n",
    "    test[name].fillna(np.median(temp[name]),inplace=True)\n",
    "    return train,test\n",
    "\n",
    "def gen_average_price(train,test,col,price='base_price',name='name'):\n",
    "    temp=train.groupby(col)[price].mean().reset_index().rename(columns={price:name})\n",
    "    train=pd.merge(train,temp,how='left',on=col)\n",
    "    test=pd.merge(test,temp,how='left',on=col)\n",
    "    train[name].fillna(np.median(temp[name]),inplace=True)\n",
    "    test[name].fillna(np.median(temp[name]),inplace=True)\n",
    "    return train,test"
   ]
  },
  {
   "cell_type": "code",
   "execution_count": null,
   "metadata": {
    "colab": {},
    "colab_type": "code",
    "id": "koa6JSoubL3x"
   },
   "outputs": [],
   "source": [
    "train,test = gen_count_id(train,test,col=['sku_id','store_id'],name='count_id_sku_store') #Genearting count of records per 'sku-id & store-id' \n",
    "train,test = gen_count_id(train,test,col=['sku_id'],name='count_id_sku') #Genearting count of records per 'sku-id'\n",
    "train,test = gen_count_id(train,test,col=['store_id'],name='count_id_store') #Genearting count of records per 'store-id'\n",
    "\n",
    "train,test = gen_average_units(train,test,col=['sku_id','store_id'],name='count_sku_store_id') #Genearting average units sold per 'sku-id & store-id'\n",
    "train,test = gen_average_units(train,test,col=['store_id'],name='count_store_id') #Genearting average units sold per 'store-id'\n",
    "train,test = gen_average_units(train,test,col=['sku_id'],name='count_sku_id') #Genearting average units sold per 'sku-id'\n",
    "\n",
    "train,test = gen_average_price(train,test,col=['sku_id','store_id'],price='base_price',name='price_sku_store') #Genearting average base price per 'sku-id & store-id'\n",
    "train,test = gen_average_price(train,test,col=['sku_id','store_id'],price='total_price',name='price_to_sku_store') #Genearting average total price per 'sku-id & store-id'\n",
    "train,test = gen_average_price(train,test,col=['store_id'],price='base_price',name='price_store_id') #Genearting average base price per 'store-id'\n",
    "train,test = gen_average_price(train,test,col=['sku_id'],price='base_price',name='price_sku_id') #Genearting average base price per 'sku-id'\n",
    "train,test = gen_average_price(train,test,col=['store_id'],price='total_price',name='price_to_store_id') #Genearting average total price per 'store-id'\n",
    "train,test = gen_average_price(train,test,col=['sku_id'],price='total_price',name='price_to_sku_id') #Genearting average total price per 'sku-id'"
   ]
  },
  {
   "cell_type": "code",
   "execution_count": null,
   "metadata": {
    "colab": {},
    "colab_type": "code",
    "id": "vdbYXGr0dJ6u"
   },
   "outputs": [],
   "source": [
    "#Converting week feature\n",
    "le = OrdinalEncoder()\n",
    "train['week_1']=le.fit_transform(train['week'])\n",
    "le = OrdinalEncoder()\n",
    "test['week_1']=le.fit_transform(test['week'])+130\n",
    "\n",
    "#Creating week number feature\n",
    "train['week_num']=train.week_1%52\n",
    "test['week_num']=test.week_1%52\n",
    "\n",
    "train['week_num1']=train.week_1%4\n",
    "test['week_num1']=test.week_1%4\n",
    "\n",
    "# Encoding 'week' it using sine and cosine transform; considering it as a cyclic feature \n",
    "train['week_sin'] = np.sin(2 * np.pi * train['week_1'] / 52.143)\n",
    "train['week_cos'] = np.cos(2 * np.pi * train['week_1'] / 52.143)\n",
    "test['week_sin'] = np.sin(2 * np.pi * test['week_1'] / 52.143)\n",
    "test['week_cos'] = np.cos(2 * np.pi * test['week_1'] / 52.143)\n",
    "\n",
    "#Creating feature: percent difference between base price and checkout price.\n",
    "train['price_diff_percent'] = (train['base_price'] - train['total_price']) / train['base_price']\n",
    "test['price_diff_percent'] = (test['base_price'] - test['total_price']) / test['base_price']"
   ]
  },
  {
   "cell_type": "code",
   "execution_count": null,
   "metadata": {
    "colab": {},
    "colab_type": "code",
    "id": "-0eM6ynFdIRt"
   },
   "outputs": [],
   "source": [
    "train.tail()"
   ]
  },
  {
   "cell_type": "code",
   "execution_count": null,
   "metadata": {},
   "outputs": [],
   "source": [
    "test.head()"
   ]
  },
  {
   "cell_type": "code",
   "execution_count": null,
   "metadata": {
    "colab": {},
    "colab_type": "code",
    "id": "RWTAs-1oMswh"
   },
   "outputs": [],
   "source": [
    "X=train[list(set(train.columns)-set(['record_ID','units_sold','week']))]\n",
    "Y= np.log1p(train['units_sold'])\n",
    "X_test=test[list(set(test.columns)-set(['record_ID','week']))]"
   ]
  },
  {
   "cell_type": "code",
   "execution_count": null,
   "metadata": {
    "colab": {
     "base_uri": "https://localhost:8080/",
     "height": 215
    },
    "colab_type": "code",
    "id": "EQOoY0F2tZQF",
    "outputId": "7aca3460-c158-44d8-c9fd-88fd48817423"
   },
   "outputs": [],
   "source": [
    "X.head()"
   ]
  },
  {
   "cell_type": "code",
   "execution_count": null,
   "metadata": {
    "colab": {
     "base_uri": "https://localhost:8080/",
     "height": 302
    },
    "colab_type": "code",
    "id": "RoV_i8LJI2UH",
    "outputId": "4b5ec247-c869-4475-b752-460d95dca4f2"
   },
   "outputs": [],
   "source": [
    "X.dtypes"
   ]
  },
  {
   "cell_type": "code",
   "execution_count": 3,
   "metadata": {
    "colab": {},
    "colab_type": "code",
    "id": "-aQ2-Pj1I355"
   },
   "outputs": [
    {
     "ename": "NameError",
     "evalue": "name 'X' is not defined",
     "output_type": "error",
     "traceback": [
      "\u001b[1;31m---------------------------------------------------------------------------\u001b[0m",
      "\u001b[1;31mNameError\u001b[0m                                 Traceback (most recent call last)",
      "\u001b[1;32m<ipython-input-3-8881290f3dcf>\u001b[0m in \u001b[0;36m<module>\u001b[1;34m\u001b[0m\n\u001b[1;32m----> 1\u001b[1;33m \u001b[0mX\u001b[0m\u001b[1;33m=\u001b[0m\u001b[0mX\u001b[0m\u001b[1;33m.\u001b[0m\u001b[0mastype\u001b[0m\u001b[1;33m(\u001b[0m\u001b[1;33m{\u001b[0m\u001b[1;34m'sku_id'\u001b[0m\u001b[1;33m:\u001b[0m \u001b[1;34m'category'\u001b[0m\u001b[1;33m,\u001b[0m\u001b[1;34m'store_id'\u001b[0m\u001b[1;33m:\u001b[0m \u001b[1;34m'category'\u001b[0m\u001b[1;33m}\u001b[0m\u001b[1;33m)\u001b[0m\u001b[1;33m\u001b[0m\u001b[1;33m\u001b[0m\u001b[0m\n\u001b[0m\u001b[0;32m      2\u001b[0m \u001b[0mX_test\u001b[0m\u001b[1;33m=\u001b[0m\u001b[0mX_test\u001b[0m\u001b[1;33m.\u001b[0m\u001b[0mastype\u001b[0m\u001b[1;33m(\u001b[0m\u001b[1;33m{\u001b[0m\u001b[1;34m'sku_id'\u001b[0m\u001b[1;33m:\u001b[0m \u001b[1;34m'category'\u001b[0m\u001b[1;33m,\u001b[0m\u001b[1;34m'store_id'\u001b[0m\u001b[1;33m:\u001b[0m \u001b[1;34m'category'\u001b[0m\u001b[1;33m}\u001b[0m\u001b[1;33m)\u001b[0m\u001b[1;33m\u001b[0m\u001b[1;33m\u001b[0m\u001b[0m\n",
      "\u001b[1;31mNameError\u001b[0m: name 'X' is not defined"
     ]
    }
   ],
   "source": [
    "X=X.astype({'sku_id': 'category','store_id': 'category'})\n",
    "X_test=X_test.astype({'sku_id': 'category','store_id': 'category'})"
   ]
  },
  {
   "cell_type": "code",
   "execution_count": null,
   "metadata": {
    "colab": {
     "base_uri": "https://localhost:8080/",
     "height": 50
    },
    "colab_type": "code",
    "id": "-knSkEDUKfG7",
    "outputId": "8d9c6e55-28f7-4934-bfe6-c3c6d04ca629"
   },
   "outputs": [],
   "source": [
    "print(len(X_test.columns))\n",
    "print(len(X.columns))"
   ]
  },
  {
   "cell_type": "code",
   "execution_count": null,
   "metadata": {
    "colab": {
     "base_uri": "https://localhost:8080/",
     "height": 50
    },
    "colab_type": "code",
    "id": "bmyiCX9Ghmoi",
    "outputId": "854c38bf-4c8f-4d0a-f077-b26785477df4"
   },
   "outputs": [],
   "source": [
    "print(X_test.isna().sum().sum())\n",
    "print(X.isna().sum().sum())"
   ]
  },
  {
   "cell_type": "code",
   "execution_count": null,
   "metadata": {
    "colab": {},
    "colab_type": "code",
    "id": "gL7yyH0KU0oQ"
   },
   "outputs": [],
   "source": [
    "category_list=['store_id','sku_id']"
   ]
  },
  {
   "cell_type": "code",
   "execution_count": null,
   "metadata": {
    "colab": {},
    "colab_type": "code",
    "id": "_JKsAqa5U5LE"
   },
   "outputs": [],
   "source": [
    "encoder_final=MEstimateEncoder()\n",
    "encoder_final.fit(X[category_list], Y)\n",
    "\n",
    "cat_enc = encoder_final.transform(X[category_list], Y)\n",
    "continuous_train = X.drop(columns= category_list)\n",
    "X = pd.concat([cat_enc,continuous_train],axis=1)\n",
    "\n",
    "test_enc=encoder_final.transform(X_test[category_list])\n",
    "continuous_test=X_test.drop(columns= category_list)\n",
    "X_test=pd.concat([test_enc,continuous_test],axis=1)"
   ]
  },
  {
   "cell_type": "code",
   "execution_count": null,
   "metadata": {
    "colab": {
     "base_uri": "https://localhost:8080/",
     "height": 215
    },
    "colab_type": "code",
    "id": "vDj5y0iEel6Z",
    "outputId": "20c9ea23-480a-41a7-94b2-e3970f071cf0"
   },
   "outputs": [],
   "source": [
    "X.head()"
   ]
  },
  {
   "cell_type": "code",
   "execution_count": null,
   "metadata": {
    "colab": {
     "base_uri": "https://localhost:8080/",
     "height": 215
    },
    "colab_type": "code",
    "id": "sP_swafMemt2",
    "outputId": "c2405182-393c-4e51-cb55-26a50dbd1ab7"
   },
   "outputs": [],
   "source": [
    "X_test.head()"
   ]
  },
  {
   "cell_type": "markdown",
   "metadata": {
    "colab_type": "text",
    "id": "E030Zz08LjED"
   },
   "source": [
    "# Model Building"
   ]
  },
  {
   "cell_type": "code",
   "execution_count": null,
   "metadata": {
    "colab": {
     "base_uri": "https://localhost:8080/",
     "height": 118
    },
    "colab_type": "code",
    "id": "nPxMuh_8OKJZ",
    "outputId": "db05c80b-ffcb-4ad3-a534-a5bfb29b328c"
   },
   "outputs": [],
   "source": [
    "X.columns"
   ]
  },
  {
   "cell_type": "code",
   "execution_count": null,
   "metadata": {
    "colab": {},
    "colab_type": "code",
    "id": "foE05NTHSMb3"
   },
   "outputs": [],
   "source": [
    "x_train, x_valid, y_train, y_valid = train_test_split(X, Y, test_size = 0.2,random_state=23)"
   ]
  },
  {
   "cell_type": "code",
   "execution_count": null,
   "metadata": {
    "colab": {
     "base_uri": "https://localhost:8080/",
     "height": 34
    },
    "colab_type": "code",
    "id": "c9dfUWP714a-",
    "outputId": "5c1e40ff-9a56-4bbe-b2bd-2fbf60f5259e"
   },
   "outputs": [],
   "source": [
    "len(x_train.columns)"
   ]
  },
  {
   "cell_type": "code",
   "execution_count": null,
   "metadata": {},
   "outputs": [],
   "source": [
    "rf_base = RandomForestRegressor()\n",
    "rf_base.fit(x_train,y_train)\n",
    "\n",
    "\n",
    "rf_tuned = RandomForestRegressor(bootstrap=True, criterion='mse', max_depth=30,\n",
    "                      max_features='sqrt', max_leaf_nodes=None,\n",
    "                      min_impurity_decrease=0.0, min_impurity_split=None,\n",
    "                      min_samples_leaf=1, min_samples_split=10,\n",
    "                      min_weight_fraction_leaf=0.0, n_estimators=600,\n",
    "                      n_jobs=None, oob_score=True, random_state=None,\n",
    "                      verbose=0, warm_start=False)\n",
    "rf_tuned.fit(x_train,y_train)"
   ]
  },
  {
   "cell_type": "code",
   "execution_count": null,
   "metadata": {},
   "outputs": [],
   "source": [
    "model_lgb_base=lgb.LGBMRegressor(objective='regression')\n",
    "model_lgb_base.fit(x_train,y_train)\n",
    "\n",
    "model_lgb_tuned=lgb.LGBMRegressor(bagging_fraction=0.8, bagging_frequency=4, boosting_type='gbdt',\n",
    "              class_weight=None, colsample_bytree=1.0, feature_fraction=0.5,\n",
    "              importance_type='split', learning_rate=0.1, max_depth=30,\n",
    "              min_child_samples=20, min_child_weight=30, min_data_in_leaf=70,\n",
    "              min_split_gain=0.0001, n_estimators=200, n_jobs=-1,\n",
    "              num_leaves=1200, objective=None, random_state=None, reg_alpha=0.0,\n",
    "              reg_lambda=0.0, silent=True, subsample=1.0,\n",
    "              subsample_for_bin=200000, subsample_freq=0)\n",
    "\n",
    "model_lgb_tuned.fit(x_train,y_train)"
   ]
  },
  {
   "cell_type": "code",
   "execution_count": null,
   "metadata": {},
   "outputs": [],
   "source": [
    "prediction_rfb_valid=rf_base.predict(x_valid)\n",
    "prediction_rft_valid=rf_tuned.predict(x_valid)\n",
    "prediction_lgbmb_valid=model_lgb_base.predict(x_valid)\n",
    "prediction_lgbmt_valid=model_lgb_tuned.predict(x_valid)\n",
    "\n",
    "rf_base_msle=100*mean_squared_log_error(y_valid,prediction_rfb_valid)\n",
    "rf_tuned_msle=100*mean_squared_log_error(y_valid,prediction_rft_valid)\n",
    "lgbm_base_msle=100*mean_squared_log_error(y_valid,prediction_lgbmb_valid)\n",
    "lgbm_tuned_msle=100*mean_squared_log_error(y_valid,prediction_lgbmt_valid)\n",
    "\n",
    "prediction_ensemble_base=(((1-rf_base_msle)*prediction_rfb_valid)+((1-lgbm_base_msle)*prediction_lgbmb_valid))/(2-rf_base_msle-lgbm_base_msle)\n",
    "prediction_ensemble_tuned=(((1-rf_tuned_msle)*prediction_rft_valid)+((1-lgbm_tuned_msle)*prediction_lgbmt_valid))/(2-rf_tuned_msle-lgbm_tuned_msle)\n",
    "\n",
    "ensemble_base_msle=100*mean_squared_log_error(y_valid,prediction_ensemble_base)\n",
    "ensemble_tuned_msle=100*mean_squared_log_error(y_valid,prediction_ensemble_tuned)\n",
    "\n",
    "\n",
    "print(\"RF Base: {}; RF Tuned: {}\".format(rf_base_msle,rf_tuned_msle))\n",
    "print(\"LGBM Base: {}; LGBM Tuned: {}\".format(lgbm_base_msle,lgbm_tuned_msle))\n",
    "print(\"Ensemble Base: {}; Ensemble Tuned: {}\".format(ensemble_base_msle,ensemble_tuned_msle))"
   ]
  },
  {
   "cell_type": "code",
   "execution_count": null,
   "metadata": {},
   "outputs": [],
   "source": [
    "model = lgb.LGBMRegressor(bagging_fraction=0.8, bagging_frequency=4, boosting_type='gbdt',\n",
    "              class_weight=None, colsample_bytree=1.0, feature_fraction=0.5,\n",
    "              importance_type='split', learning_rate=0.1, max_depth=30,\n",
    "              min_child_samples=20, min_child_weight=30, min_data_in_leaf=70,\n",
    "              min_split_gain=0.0001, n_estimators=100, n_jobs=-1,\n",
    "              num_leaves=1400, objective=None, random_state=None, reg_alpha=0.0,\n",
    "              reg_lambda=0.0, silent=True, subsample=1.0,\n",
    "              subsample_for_bin=200000, subsample_freq=0)\n",
    "\n",
    "model.fit(X,Y)"
   ]
  },
  {
   "cell_type": "markdown",
   "metadata": {},
   "source": [
    "# Final Submission "
   ]
  },
  {
   "cell_type": "code",
   "execution_count": null,
   "metadata": {},
   "outputs": [],
   "source": [
    "X_test.head()"
   ]
  },
  {
   "cell_type": "code",
   "execution_count": null,
   "metadata": {
    "colab": {},
    "colab_type": "code",
    "id": "q22bMPXTns5q"
   },
   "outputs": [],
   "source": [
    "prediction=model.predict(X_test) "
   ]
  },
  {
   "cell_type": "code",
   "execution_count": null,
   "metadata": {
    "colab": {},
    "colab_type": "code",
    "id": "Zo1T3nw-yZCI"
   },
   "outputs": [],
   "source": [
    "final_prediction=np.round(np.expm1(prediction))\n",
    "submission['units_sold']=final_prediction"
   ]
  },
  {
   "cell_type": "code",
   "execution_count": null,
   "metadata": {
    "colab": {
     "base_uri": "https://localhost:8080/",
     "height": 195
    },
    "colab_type": "code",
    "id": "7MBrEPKezqPX",
    "outputId": "cdeba79e-eb31-410d-a287-90255788798e"
   },
   "outputs": [],
   "source": [
    "submission.head()"
   ]
  },
  {
   "cell_type": "code",
   "execution_count": null,
   "metadata": {
    "colab": {},
    "colab_type": "code",
    "id": "ZiKc2D6Jzv5b"
   },
   "outputs": [],
   "source": [
    "submission.to_csv('DemandForecast.csv',index=False)"
   ]
  }
 ],
 "metadata": {
  "colab": {
   "collapsed_sections": [],
   "name": "AV_DemandForecasting.ipynb",
   "provenance": []
  },
  "kernelspec": {
   "display_name": "Python 3",
   "language": "python",
   "name": "python3"
  },
  "language_info": {
   "codemirror_mode": {
    "name": "ipython",
    "version": 3
   },
   "file_extension": ".py",
   "mimetype": "text/x-python",
   "name": "python",
   "nbconvert_exporter": "python",
   "pygments_lexer": "ipython3",
   "version": "3.8.3"
  }
 },
 "nbformat": 4,
 "nbformat_minor": 1
}
